{
 "cells": [
  {
   "cell_type": "markdown",
   "metadata": {},
   "source": [
    "# 数据清洗"
   ]
  },
  {
   "cell_type": "markdown",
   "metadata": {},
   "source": [
    "## 缺失值处理"
   ]
  },
  {
   "cell_type": "markdown",
   "metadata": {},
   "source": [
    "### 拉格朗日插值"
   ]
  },
  {
   "cell_type": "code",
   "execution_count": 9,
   "metadata": {},
   "outputs": [
    {
     "name": "stderr",
     "output_type": "stream",
     "text": [
      "D:\\soft\\Anaconda3\\lib\\site-packages\\ipykernel_launcher.py:8: SettingWithCopyWarning: \n",
      "A value is trying to be set on a copy of a slice from a DataFrame\n",
      "\n",
      "See the caveats in the documentation: http://pandas.pydata.org/pandas-docs/stable/indexing.html#indexing-view-versus-copy\n",
      "  \n",
      "D:\\soft\\Anaconda3\\lib\\site-packages\\pandas\\core\\series.py:841: FutureWarning: \n",
      "Passing list-likes to .loc or [] with any missing label will raise\n",
      "KeyError in the future, you can use .reindex() as an alternative.\n",
      "\n",
      "See the documentation here:\n",
      "https://pandas.pydata.org/pandas-docs/stable/indexing.html#deprecate-loc-reindex-listlike\n",
      "  return self.loc[key]\n",
      "D:\\soft\\Anaconda3\\lib\\site-packages\\ipykernel_launcher.py:21: SettingWithCopyWarning: \n",
      "A value is trying to be set on a copy of a slice from a DataFrame\n",
      "\n",
      "See the caveats in the documentation: http://pandas.pydata.org/pandas-docs/stable/indexing.html#indexing-view-versus-copy\n"
     ]
    }
   ],
   "source": [
    "import pandas as pd #导入数据分析库Pandas\n",
    "from scipy.interpolate import lagrange #导入拉格朗日插值函数\n",
    "\n",
    "inputfile = './data/catering_sale.xls' #销量数据路径\n",
    "outputfile = './tmp/sales.xls' #输出数据路径\n",
    "\n",
    "data = pd.read_excel(inputfile) #读入数据\n",
    "data[u'销量'][(data[u'销量'] < 400) | (data[u'销量'] > 5000)] = None #过滤异常值，将其变为空值\n",
    "\n",
    "#自定义列向量插值函数\n",
    "#s为列向量，n为被插值的位置，k为取前后的数据个数，默认为5\n",
    "def ployinterp_column(s, n, k=5):\n",
    "  y = s[list(range(n-k, n)) + list(range(n+1, n+1+k))] #取数\n",
    "  y = y[y.notnull()] #剔除空值\n",
    "    '''\n",
    "    拉个朗日插值并返回插值结果\n",
    "    '''\n",
    "  return lagrange(y.index, list(y))(n) \n",
    "\n",
    "#逐个元素判断是否需要插值\n",
    "for i in data.columns:\n",
    "  for j in range(len(data)):\n",
    "    if (data[i].isnull())[j]: #如果为空即插值。\n",
    "      data[i][j] = ployinterp_column(data[i], j)\n",
    "\n",
    "data.to_excel(outputfile) #输出结果，写入文件"
   ]
  },
  {
   "cell_type": "markdown",
   "metadata": {},
   "source": [
    "### 数据规范化"
   ]
  },
  {
   "cell_type": "code",
   "execution_count": 10,
   "metadata": {},
   "outputs": [
    {
     "data": {
      "text/html": [
       "<div>\n",
       "<style scoped>\n",
       "    .dataframe tbody tr th:only-of-type {\n",
       "        vertical-align: middle;\n",
       "    }\n",
       "\n",
       "    .dataframe tbody tr th {\n",
       "        vertical-align: top;\n",
       "    }\n",
       "\n",
       "    .dataframe thead th {\n",
       "        text-align: right;\n",
       "    }\n",
       "</style>\n",
       "<table border=\"1\" class=\"dataframe\">\n",
       "  <thead>\n",
       "    <tr style=\"text-align: right;\">\n",
       "      <th></th>\n",
       "      <th>0</th>\n",
       "      <th>1</th>\n",
       "      <th>2</th>\n",
       "      <th>3</th>\n",
       "    </tr>\n",
       "  </thead>\n",
       "  <tbody>\n",
       "    <tr>\n",
       "      <th>0</th>\n",
       "      <td>0.078</td>\n",
       "      <td>0.521</td>\n",
       "      <td>0.602</td>\n",
       "      <td>0.2863</td>\n",
       "    </tr>\n",
       "    <tr>\n",
       "      <th>1</th>\n",
       "      <td>0.144</td>\n",
       "      <td>-0.600</td>\n",
       "      <td>-0.521</td>\n",
       "      <td>0.2245</td>\n",
       "    </tr>\n",
       "    <tr>\n",
       "      <th>2</th>\n",
       "      <td>0.095</td>\n",
       "      <td>-0.457</td>\n",
       "      <td>0.468</td>\n",
       "      <td>-0.1283</td>\n",
       "    </tr>\n",
       "    <tr>\n",
       "      <th>3</th>\n",
       "      <td>0.069</td>\n",
       "      <td>0.596</td>\n",
       "      <td>0.695</td>\n",
       "      <td>0.1054</td>\n",
       "    </tr>\n",
       "    <tr>\n",
       "      <th>4</th>\n",
       "      <td>0.190</td>\n",
       "      <td>0.527</td>\n",
       "      <td>0.691</td>\n",
       "      <td>0.2051</td>\n",
       "    </tr>\n",
       "    <tr>\n",
       "      <th>5</th>\n",
       "      <td>0.101</td>\n",
       "      <td>0.403</td>\n",
       "      <td>0.470</td>\n",
       "      <td>0.2487</td>\n",
       "    </tr>\n",
       "    <tr>\n",
       "      <th>6</th>\n",
       "      <td>0.146</td>\n",
       "      <td>0.413</td>\n",
       "      <td>0.435</td>\n",
       "      <td>0.2571</td>\n",
       "    </tr>\n",
       "  </tbody>\n",
       "</table>\n",
       "</div>"
      ],
      "text/plain": [
       "       0      1      2       3\n",
       "0  0.078  0.521  0.602  0.2863\n",
       "1  0.144 -0.600 -0.521  0.2245\n",
       "2  0.095 -0.457  0.468 -0.1283\n",
       "3  0.069  0.596  0.695  0.1054\n",
       "4  0.190  0.527  0.691  0.2051\n",
       "5  0.101  0.403  0.470  0.2487\n",
       "6  0.146  0.413  0.435  0.2571"
      ]
     },
     "execution_count": 10,
     "metadata": {},
     "output_type": "execute_result"
    }
   ],
   "source": [
    "#-*- coding: utf-8 -*-\n",
    "import pandas as pd\n",
    "import numpy as np\n",
    "\n",
    "datafile = './data/normalization_data.xls' #参数初始化\n",
    "data = pd.read_excel(datafile, header = None) #读取数据"
   ]
  },
  {
   "cell_type": "markdown",
   "metadata": {},
   "source": [
    "#### 最小-最大规范化"
   ]
  },
  {
   "cell_type": "code",
   "execution_count": 11,
   "metadata": {},
   "outputs": [
    {
     "data": {
      "text/html": [
       "<div>\n",
       "<style scoped>\n",
       "    .dataframe tbody tr th:only-of-type {\n",
       "        vertical-align: middle;\n",
       "    }\n",
       "\n",
       "    .dataframe tbody tr th {\n",
       "        vertical-align: top;\n",
       "    }\n",
       "\n",
       "    .dataframe thead th {\n",
       "        text-align: right;\n",
       "    }\n",
       "</style>\n",
       "<table border=\"1\" class=\"dataframe\">\n",
       "  <thead>\n",
       "    <tr style=\"text-align: right;\">\n",
       "      <th></th>\n",
       "      <th>0</th>\n",
       "      <th>1</th>\n",
       "      <th>2</th>\n",
       "      <th>3</th>\n",
       "    </tr>\n",
       "  </thead>\n",
       "  <tbody>\n",
       "    <tr>\n",
       "      <th>0</th>\n",
       "      <td>0.074380</td>\n",
       "      <td>0.937291</td>\n",
       "      <td>0.923520</td>\n",
       "      <td>1.000000</td>\n",
       "    </tr>\n",
       "    <tr>\n",
       "      <th>1</th>\n",
       "      <td>0.619835</td>\n",
       "      <td>0.000000</td>\n",
       "      <td>0.000000</td>\n",
       "      <td>0.850941</td>\n",
       "    </tr>\n",
       "    <tr>\n",
       "      <th>2</th>\n",
       "      <td>0.214876</td>\n",
       "      <td>0.119565</td>\n",
       "      <td>0.813322</td>\n",
       "      <td>0.000000</td>\n",
       "    </tr>\n",
       "    <tr>\n",
       "      <th>3</th>\n",
       "      <td>0.000000</td>\n",
       "      <td>1.000000</td>\n",
       "      <td>1.000000</td>\n",
       "      <td>0.563676</td>\n",
       "    </tr>\n",
       "    <tr>\n",
       "      <th>4</th>\n",
       "      <td>1.000000</td>\n",
       "      <td>0.942308</td>\n",
       "      <td>0.996711</td>\n",
       "      <td>0.804149</td>\n",
       "    </tr>\n",
       "    <tr>\n",
       "      <th>5</th>\n",
       "      <td>0.264463</td>\n",
       "      <td>0.838629</td>\n",
       "      <td>0.814967</td>\n",
       "      <td>0.909310</td>\n",
       "    </tr>\n",
       "    <tr>\n",
       "      <th>6</th>\n",
       "      <td>0.636364</td>\n",
       "      <td>0.846990</td>\n",
       "      <td>0.786184</td>\n",
       "      <td>0.929571</td>\n",
       "    </tr>\n",
       "  </tbody>\n",
       "</table>\n",
       "</div>"
      ],
      "text/plain": [
       "          0         1         2         3\n",
       "0  0.074380  0.937291  0.923520  1.000000\n",
       "1  0.619835  0.000000  0.000000  0.850941\n",
       "2  0.214876  0.119565  0.813322  0.000000\n",
       "3  0.000000  1.000000  1.000000  0.563676\n",
       "4  1.000000  0.942308  0.996711  0.804149\n",
       "5  0.264463  0.838629  0.814967  0.909310\n",
       "6  0.636364  0.846990  0.786184  0.929571"
      ]
     },
     "execution_count": 11,
     "metadata": {},
     "output_type": "execute_result"
    }
   ],
   "source": [
    "(data - data.min())/(data.max() - data.min())"
   ]
  },
  {
   "cell_type": "markdown",
   "metadata": {},
   "source": [
    "#### 零-均值规范化"
   ]
  },
  {
   "cell_type": "code",
   "execution_count": 12,
   "metadata": {},
   "outputs": [
    {
     "data": {
      "text/html": [
       "<div>\n",
       "<style scoped>\n",
       "    .dataframe tbody tr th:only-of-type {\n",
       "        vertical-align: middle;\n",
       "    }\n",
       "\n",
       "    .dataframe tbody tr th {\n",
       "        vertical-align: top;\n",
       "    }\n",
       "\n",
       "    .dataframe thead th {\n",
       "        text-align: right;\n",
       "    }\n",
       "</style>\n",
       "<table border=\"1\" class=\"dataframe\">\n",
       "  <thead>\n",
       "    <tr style=\"text-align: right;\">\n",
       "      <th></th>\n",
       "      <th>0</th>\n",
       "      <th>1</th>\n",
       "      <th>2</th>\n",
       "      <th>3</th>\n",
       "    </tr>\n",
       "  </thead>\n",
       "  <tbody>\n",
       "    <tr>\n",
       "      <th>0</th>\n",
       "      <td>-0.905383</td>\n",
       "      <td>0.635863</td>\n",
       "      <td>0.464531</td>\n",
       "      <td>0.798149</td>\n",
       "    </tr>\n",
       "    <tr>\n",
       "      <th>1</th>\n",
       "      <td>0.604678</td>\n",
       "      <td>-1.587675</td>\n",
       "      <td>-2.193167</td>\n",
       "      <td>0.369390</td>\n",
       "    </tr>\n",
       "    <tr>\n",
       "      <th>2</th>\n",
       "      <td>-0.516428</td>\n",
       "      <td>-1.304030</td>\n",
       "      <td>0.147406</td>\n",
       "      <td>-2.078279</td>\n",
       "    </tr>\n",
       "    <tr>\n",
       "      <th>3</th>\n",
       "      <td>-1.111301</td>\n",
       "      <td>0.784628</td>\n",
       "      <td>0.684625</td>\n",
       "      <td>-0.456906</td>\n",
       "    </tr>\n",
       "    <tr>\n",
       "      <th>4</th>\n",
       "      <td>1.657146</td>\n",
       "      <td>0.647765</td>\n",
       "      <td>0.675159</td>\n",
       "      <td>0.234796</td>\n",
       "    </tr>\n",
       "    <tr>\n",
       "      <th>5</th>\n",
       "      <td>-0.379150</td>\n",
       "      <td>0.401807</td>\n",
       "      <td>0.152139</td>\n",
       "      <td>0.537286</td>\n",
       "    </tr>\n",
       "    <tr>\n",
       "      <th>6</th>\n",
       "      <td>0.650438</td>\n",
       "      <td>0.421642</td>\n",
       "      <td>0.069308</td>\n",
       "      <td>0.595564</td>\n",
       "    </tr>\n",
       "  </tbody>\n",
       "</table>\n",
       "</div>"
      ],
      "text/plain": [
       "          0         1         2         3\n",
       "0 -0.905383  0.635863  0.464531  0.798149\n",
       "1  0.604678 -1.587675 -2.193167  0.369390\n",
       "2 -0.516428 -1.304030  0.147406 -2.078279\n",
       "3 -1.111301  0.784628  0.684625 -0.456906\n",
       "4  1.657146  0.647765  0.675159  0.234796\n",
       "5 -0.379150  0.401807  0.152139  0.537286\n",
       "6  0.650438  0.421642  0.069308  0.595564"
      ]
     },
     "execution_count": 12,
     "metadata": {},
     "output_type": "execute_result"
    }
   ],
   "source": [
    "(data - data.mean())/data.std() "
   ]
  },
  {
   "cell_type": "markdown",
   "metadata": {},
   "source": [
    "#### 小数定标规范化"
   ]
  },
  {
   "cell_type": "code",
   "execution_count": 13,
   "metadata": {},
   "outputs": [
    {
     "data": {
      "text/html": [
       "<div>\n",
       "<style scoped>\n",
       "    .dataframe tbody tr th:only-of-type {\n",
       "        vertical-align: middle;\n",
       "    }\n",
       "\n",
       "    .dataframe tbody tr th {\n",
       "        vertical-align: top;\n",
       "    }\n",
       "\n",
       "    .dataframe thead th {\n",
       "        text-align: right;\n",
       "    }\n",
       "</style>\n",
       "<table border=\"1\" class=\"dataframe\">\n",
       "  <thead>\n",
       "    <tr style=\"text-align: right;\">\n",
       "      <th></th>\n",
       "      <th>0</th>\n",
       "      <th>1</th>\n",
       "      <th>2</th>\n",
       "      <th>3</th>\n",
       "    </tr>\n",
       "  </thead>\n",
       "  <tbody>\n",
       "    <tr>\n",
       "      <th>0</th>\n",
       "      <td>0.078</td>\n",
       "      <td>0.521</td>\n",
       "      <td>0.602</td>\n",
       "      <td>0.2863</td>\n",
       "    </tr>\n",
       "    <tr>\n",
       "      <th>1</th>\n",
       "      <td>0.144</td>\n",
       "      <td>-0.600</td>\n",
       "      <td>-0.521</td>\n",
       "      <td>0.2245</td>\n",
       "    </tr>\n",
       "    <tr>\n",
       "      <th>2</th>\n",
       "      <td>0.095</td>\n",
       "      <td>-0.457</td>\n",
       "      <td>0.468</td>\n",
       "      <td>-0.1283</td>\n",
       "    </tr>\n",
       "    <tr>\n",
       "      <th>3</th>\n",
       "      <td>0.069</td>\n",
       "      <td>0.596</td>\n",
       "      <td>0.695</td>\n",
       "      <td>0.1054</td>\n",
       "    </tr>\n",
       "    <tr>\n",
       "      <th>4</th>\n",
       "      <td>0.190</td>\n",
       "      <td>0.527</td>\n",
       "      <td>0.691</td>\n",
       "      <td>0.2051</td>\n",
       "    </tr>\n",
       "    <tr>\n",
       "      <th>5</th>\n",
       "      <td>0.101</td>\n",
       "      <td>0.403</td>\n",
       "      <td>0.470</td>\n",
       "      <td>0.2487</td>\n",
       "    </tr>\n",
       "    <tr>\n",
       "      <th>6</th>\n",
       "      <td>0.146</td>\n",
       "      <td>0.413</td>\n",
       "      <td>0.435</td>\n",
       "      <td>0.2571</td>\n",
       "    </tr>\n",
       "  </tbody>\n",
       "</table>\n",
       "</div>"
      ],
      "text/plain": [
       "       0      1      2       3\n",
       "0  0.078  0.521  0.602  0.2863\n",
       "1  0.144 -0.600 -0.521  0.2245\n",
       "2  0.095 -0.457  0.468 -0.1283\n",
       "3  0.069  0.596  0.695  0.1054\n",
       "4  0.190  0.527  0.691  0.2051\n",
       "5  0.101  0.403  0.470  0.2487\n",
       "6  0.146  0.413  0.435  0.2571"
      ]
     },
     "execution_count": 13,
     "metadata": {},
     "output_type": "execute_result"
    }
   ],
   "source": [
    "data/10**np.ceil(np.log10(data.abs().max()))"
   ]
  },
  {
   "cell_type": "markdown",
   "metadata": {},
   "source": [
    "### 数据离散化"
   ]
  },
  {
   "cell_type": "code",
   "execution_count": 14,
   "metadata": {},
   "outputs": [],
   "source": [
    "#-*- coding: utf-8 -*-\n",
    "import pandas as pd\n",
    "\n",
    "datafile = './data/discretization_data.xls' #参数初始化\n",
    "data = pd.read_excel(datafile) #读取数据\n",
    "data = data[u'肝气郁结证型系数'].copy()\n",
    "k = 4"
   ]
  },
  {
   "cell_type": "markdown",
   "metadata": {},
   "source": [
    "#### 等宽离散化"
   ]
  },
  {
   "cell_type": "code",
   "execution_count": 15,
   "metadata": {},
   "outputs": [],
   "source": [
    "#等宽离散化，各个类比依次命名为0,1,2,3\n",
    "d1 = pd.cut(data, k, labels = range(k)) "
   ]
  },
  {
   "cell_type": "markdown",
   "metadata": {},
   "source": [
    "#### 等频率离散化"
   ]
  },
  {
   "cell_type": "code",
   "execution_count": 28,
   "metadata": {},
   "outputs": [],
   "source": [
    "w = [1.0*i/k for i in range(k+1)]\n",
    "#使用describe函数自动计算分位数\n",
    "w[0] = w[0]*(1-1e-10)\n",
    "d2 = pd.cut(data, w, labels = range(k))"
   ]
  },
  {
   "cell_type": "markdown",
   "metadata": {},
   "source": [
    "#### 基于分类分析的方法"
   ]
  },
  {
   "cell_type": "markdown",
   "metadata": {},
   "source": [
    "###### 引入KMeans进行聚类"
   ]
  },
  {
   "cell_type": "code",
   "execution_count": 23,
   "metadata": {},
   "outputs": [
    {
     "data": {
      "text/plain": [
       "<Figure size 800x300 with 1 Axes>"
      ]
     },
     "metadata": {},
     "output_type": "display_data"
    },
    {
     "data": {
      "text/plain": [
       "<Figure size 800x300 with 1 Axes>"
      ]
     },
     "metadata": {},
     "output_type": "display_data"
    },
    {
     "data": {
      "text/plain": [
       "<Figure size 800x300 with 1 Axes>"
      ]
     },
     "metadata": {},
     "output_type": "display_data"
    }
   ],
   "source": [
    "from sklearn.cluster import KMeans #引入KMeans\n",
    "#建立模型，n_jobs是并行数，一般等于CPU数较好\n",
    "kmodel = KMeans(n_clusters = k, n_jobs = 4) \n",
    "kmodel.fit(data.values.reshape((len(data), 1))) #训练模型\n",
    "c = pd.DataFrame(kmodel.cluster_centers_).sort_values(0) #输出聚类中心，并且排序（默认是随机序的）\n",
    "w = c.rolling(window = 2).mean().iloc[1:] #相邻两项求中点，作为边界点\n",
    "w = [0] + list(w[0]) + [data.max()] #把首末边界点加上\n",
    "d3 = pd.cut(data, w, labels = range(k))\n",
    "\n",
    "def cluster_plot(d, k): #自定义作图函数来显示聚类结果\n",
    "  import matplotlib.pyplot as plt\n",
    "  plt.rcParams['font.sans-serif'] = ['SimHei'] #用来正常显示中文标签\n",
    "  plt.rcParams['axes.unicode_minus'] = False #用来正常显示负号\n",
    "  \n",
    "  plt.figure(figsize = (8, 3))\n",
    "  for j in range(0, k):\n",
    "    plt.plot(data[d==j], [j for i in d[d==j]], 'o')\n",
    "  \n",
    "  plt.ylim(-0.5, k-0.5)\n",
    "  return plt\n",
    "\n",
    "cluster_plot(d1, k).show()\n",
    "\n",
    "cluster_plot(d2, k).show()\n",
    "cluster_plot(d3, k).show()"
   ]
  },
  {
   "cell_type": "markdown",
   "metadata": {},
   "source": [
    "### 属性构造"
   ]
  },
  {
   "cell_type": "code",
   "execution_count": 32,
   "metadata": {},
   "outputs": [
    {
     "data": {
      "text/html": [
       "<div>\n",
       "<style scoped>\n",
       "    .dataframe tbody tr th:only-of-type {\n",
       "        vertical-align: middle;\n",
       "    }\n",
       "\n",
       "    .dataframe tbody tr th {\n",
       "        vertical-align: top;\n",
       "    }\n",
       "\n",
       "    .dataframe thead th {\n",
       "        text-align: right;\n",
       "    }\n",
       "</style>\n",
       "<table border=\"1\" class=\"dataframe\">\n",
       "  <thead>\n",
       "    <tr style=\"text-align: right;\">\n",
       "      <th></th>\n",
       "      <th>供入电量</th>\n",
       "      <th>供出电量</th>\n",
       "      <th>线损率</th>\n",
       "    </tr>\n",
       "  </thead>\n",
       "  <tbody>\n",
       "    <tr>\n",
       "      <th>0</th>\n",
       "      <td>986</td>\n",
       "      <td>912</td>\n",
       "      <td>0.075051</td>\n",
       "    </tr>\n",
       "    <tr>\n",
       "      <th>1</th>\n",
       "      <td>1208</td>\n",
       "      <td>1083</td>\n",
       "      <td>0.103477</td>\n",
       "    </tr>\n",
       "    <tr>\n",
       "      <th>2</th>\n",
       "      <td>1108</td>\n",
       "      <td>975</td>\n",
       "      <td>0.120036</td>\n",
       "    </tr>\n",
       "    <tr>\n",
       "      <th>3</th>\n",
       "      <td>1082</td>\n",
       "      <td>934</td>\n",
       "      <td>0.136784</td>\n",
       "    </tr>\n",
       "    <tr>\n",
       "      <th>4</th>\n",
       "      <td>1285</td>\n",
       "      <td>1102</td>\n",
       "      <td>0.142412</td>\n",
       "    </tr>\n",
       "  </tbody>\n",
       "</table>\n",
       "</div>"
      ],
      "text/plain": [
       "   供入电量  供出电量       线损率\n",
       "0   986   912  0.075051\n",
       "1  1208  1083  0.103477\n",
       "2  1108   975  0.120036\n",
       "3  1082   934  0.136784\n",
       "4  1285  1102  0.142412"
      ]
     },
     "execution_count": 32,
     "metadata": {},
     "output_type": "execute_result"
    }
   ],
   "source": [
    "#-*- coding: utf-8 -*-\n",
    "#线损率属性构造\n",
    "import pandas as pd\n",
    "\n",
    "#参数初始化\n",
    "inputfile= './data/electricity_data.xls' #供入供出电量数据\n",
    "outputfile = './tmp/electricity_data.xls' #属性构造后数据文件\n",
    "\n",
    "data = pd.read_excel(inputfile) #读入数据\n",
    "data[u'线损率'] = (data[u'供入电量'] - data[u'供出电量'])/data[u'供入电量']\n",
    "data.to_excel(outputfile, index = False) #保存结果"
   ]
  },
  {
   "cell_type": "markdown",
   "metadata": {},
   "source": [
    "### 小波变换"
   ]
  },
  {
   "cell_type": "code",
   "execution_count": 36,
   "metadata": {},
   "outputs": [],
   "source": [
    "#-*- coding: utf-8 -*-\n",
    "#利用小波分析进行特征分析\n",
    "from scipy.io import loadmat #mat是MATLAB专用格式，需要用loadmat读取它\n",
    "inputfile= './data/leleccum.mat' #提取自Matlab的信号文件\n",
    "mat = loadmat(inputfile)\n",
    "signal = mat['leleccum'][0]\n",
    "\n",
    "import pywt #导入PyWavelets\n",
    "coeffs = pywt.wavedec(signal, 'bior3.7', level = 5)\n",
    "#返回结果为level+1个数字，第一个数组为逼近系数数组，后面的依次是细节系数数组"
   ]
  },
  {
   "cell_type": "markdown",
   "metadata": {},
   "source": [
    "# 数据规约"
   ]
  },
  {
   "cell_type": "markdown",
   "metadata": {},
   "source": [
    "## 主成分分析降维"
   ]
  },
  {
   "cell_type": "code",
   "execution_count": 2,
   "metadata": {},
   "outputs": [
    {
     "data": {
      "text/plain": [
       "array([7.74011263e-01, 1.56949443e-01, 4.27594216e-02, 2.40659228e-02,\n",
       "       1.50278048e-03, 4.10990447e-04, 2.07718405e-04, 9.24594471e-05])"
      ]
     },
     "execution_count": 2,
     "metadata": {},
     "output_type": "execute_result"
    }
   ],
   "source": [
    "#主成分分析 降维\n",
    "import pandas as pd\n",
    "\n",
    "#参数初始化\n",
    "inputfile = '../data/principal_component.xls'\n",
    "outputfile = '../tmp/dimention_reducted.xls' #降维后的数据\n",
    "\n",
    "data = pd.read_excel(inputfile, header = None) #读入数据\n",
    "\n",
    "from sklearn.decomposition import PCA\n",
    "\n",
    "pca = PCA()\n",
    "pca.fit(data)\n",
    "pca.components_ #返回模型的各个特征向量\n",
    "pca.explained_variance_ratio_ #返回各个成分各自的方差百分比"
   ]
  },
  {
   "cell_type": "markdown",
   "metadata": {},
   "source": [
    "方差百分比越大，说明向量的权重越大。当区前四个主成分时，累计贡献率已经达到97.37%，说明选择前3个主成分进行计算结果已经相当不错，因此可以重新建立PCS模型，设置n_compents = 3,计算出成分结果。"
   ]
  },
  {
   "cell_type": "code",
   "execution_count": 8,
   "metadata": {},
   "outputs": [
    {
     "data": {
      "text/plain": [
       "array([[  8.19133694,  16.90402785,   3.90991029],\n",
       "       [  0.28527403,  -6.48074989,  -4.62870368],\n",
       "       [-23.70739074,  -2.85245701,  -0.4965231 ],\n",
       "       [-14.43202637,   2.29917325,  -1.50272151],\n",
       "       [  5.4304568 ,  10.00704077,   9.52086923],\n",
       "       [ 24.15955898,  -9.36428589,   0.72657857],\n",
       "       [ -3.66134607,  -7.60198615,  -2.36439873],\n",
       "       [ 13.96761214,  13.89123979,  -6.44917778],\n",
       "       [ 40.88093588, -13.25685287,   4.16539368],\n",
       "       [ -1.74887665,  -4.23112299,  -0.58980995],\n",
       "       [-21.94321959,  -2.36645883,   1.33203832],\n",
       "       [-36.70868069,  -6.00536554,   3.97183515],\n",
       "       [  3.28750663,   4.86380886,   1.00424688],\n",
       "       [  5.99885871,   4.19398863,  -8.59953736]])"
      ]
     },
     "execution_count": 8,
     "metadata": {},
     "output_type": "execute_result"
    }
   ],
   "source": [
    "pca = PCA(3)\n",
    "pca.fit(data)\n",
    "low_d = pca.transform(data)#降维\n",
    "low_d"
   ]
  },
  {
   "cell_type": "code",
   "execution_count": 6,
   "metadata": {},
   "outputs": [],
   "source": [
    "pd.DataFrame(low_d).to_excel(outputfile)#保存降维结果"
   ]
  },
  {
   "cell_type": "markdown",
   "metadata": {},
   "source": [
    "原始数据从8维降低到了3维，而这3维占了原始数据95%以上的数据。"
   ]
  },
  {
   "cell_type": "code",
   "execution_count": 4,
   "metadata": {},
   "outputs": [
    {
     "data": {
      "text/plain": [
       "array([[41.81945026, 17.92938537,  7.42743613,  6.38423781,  7.51911186,\n",
       "         7.95581778,  1.89450158, 22.64634237],\n",
       "       [26.03033486,  8.31048339, 11.0923029 , 10.50941053, 13.73592734,\n",
       "        19.29219354,  1.55616178, 10.69991334],\n",
       "       [12.8912027 ,  4.7200299 ,  4.15574756,  3.88084002,  4.15590258,\n",
       "         5.95354081,  0.63142514,  3.10031979],\n",
       "       [21.95107023,  7.86983692,  5.61296149,  5.00363184,  5.46598715,\n",
       "         7.32692984,  1.00043437,  6.90279388],\n",
       "       [33.2494621 , 16.9295226 ,  6.97070109,  6.54184048,  8.78799069,\n",
       "         9.47854775,  1.76803069, 25.48379317],\n",
       "       [35.30223656, 14.31635159, 16.19611986, 15.83211443, 22.51688172,\n",
       "        30.25654088,  2.46591519, 25.94480913],\n",
       "       [22.0404299 ,  7.67212745,  9.96458085,  9.59042702, 12.69748404,\n",
       "        17.7402549 ,  1.39886681, 10.62704002],\n",
       "       [47.82344306, 16.03581175, 11.11907058,  9.5362307 , 11.08119152,\n",
       "        14.24461981,  2.12478649, 16.79265084],\n",
       "       [40.72333307, 17.98533192, 20.14597677, 19.9884634 , 29.35835797,\n",
       "        39.0457226 ,  3.09998769, 36.25975467],\n",
       "       [24.50981762,  9.36433655,  9.52005459,  9.10471477, 12.0327766 ,\n",
       "        16.33445643,  1.4768007 , 13.14701555],\n",
       "       [13.3825743 ,  5.67777166,  4.16004148,  3.95836057,  4.47861564,\n",
       "         6.08501405,  0.6981744 ,  5.42443324],\n",
       "       [ 1.44783093,  2.03894892,  0.87728401,  1.09467426,  0.69475478,\n",
       "         1.13961005,  0.11798269,  0.47858262],\n",
       "       [32.5440038 , 13.14166028,  8.856767  ,  8.14476825, 10.36303253,\n",
       "        13.1291864 ,  1.68627384, 17.31120923],\n",
       "       [37.98481061, 11.3084017 , 11.30095568, 10.03028594, 12.01198559,\n",
       "        16.61756516,  1.80165862, 10.78134217]])"
      ]
     },
     "execution_count": 4,
     "metadata": {},
     "output_type": "execute_result"
    }
   ],
   "source": [
    "#复原数据\n",
    "pca.inverse_transform(low_d)"
   ]
  },
  {
   "cell_type": "code",
   "execution_count": null,
   "metadata": {},
   "outputs": [],
   "source": []
  }
 ],
 "metadata": {
  "kernelspec": {
   "display_name": "Python 3",
   "language": "python",
   "name": "python3"
  },
  "language_info": {
   "codemirror_mode": {
    "name": "ipython",
    "version": 3
   },
   "file_extension": ".py",
   "mimetype": "text/x-python",
   "name": "python",
   "nbconvert_exporter": "python",
   "pygments_lexer": "ipython3",
   "version": "3.6.5"
  }
 },
 "nbformat": 4,
 "nbformat_minor": 2
}
