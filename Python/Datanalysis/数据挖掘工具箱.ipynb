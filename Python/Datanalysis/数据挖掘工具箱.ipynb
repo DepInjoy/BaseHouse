{
 "cells": [
  {
   "cell_type": "markdown",
   "metadata": {},
   "source": [
    "# Pandas"
   ]
  },
  {
   "cell_type": "markdown",
   "metadata": {},
   "source": [
    "## 统计函数"
   ]
  },
  {
   "cell_type": "code",
   "execution_count": 4,
   "metadata": {},
   "outputs": [
    {
     "data": {
      "text/plain": [
       "1.0"
      ]
     },
     "execution_count": 4,
     "metadata": {},
     "output_type": "execute_result"
    }
   ],
   "source": [
    "'''\n",
    "计算相关系数矩阵，method为计算方法，其中支持：\n",
    "     1、pearson(皮尔森系数，默认)\n",
    "     2、spearman(斯皮尔曼系数)\n",
    "     3、kendall(肯德尔系数)\n",
    "'''\n",
    "import pandas as pd\n",
    "# 生成样本，两行数据分别为1-7和2-9\n",
    "D = pd.DataFrame([range(1, 8), range(2, 9)])\n",
    "# 计算相关系数矩阵\n",
    "D.corr(method='spearman')\n",
    "# 提取第一行\n",
    "S1 = D.loc[0]\n",
    "# 提取第二行\n",
    "S2 = D.loc[1]\n",
    "# 计算S1和S2的相关系数\n",
    "S1.corr(S2, method='pearson')\n"
   ]
  },
  {
   "cell_type": "markdown",
   "metadata": {},
   "source": [
    "## 计算协方差"
   ]
  },
  {
   "cell_type": "code",
   "execution_count": 6,
   "metadata": {},
   "outputs": [
    {
     "data": {
      "text/html": [
       "<div>\n",
       "<style scoped>\n",
       "    .dataframe tbody tr th:only-of-type {\n",
       "        vertical-align: middle;\n",
       "    }\n",
       "\n",
       "    .dataframe tbody tr th {\n",
       "        vertical-align: top;\n",
       "    }\n",
       "\n",
       "    .dataframe thead th {\n",
       "        text-align: right;\n",
       "    }\n",
       "</style>\n",
       "<table border=\"1\" class=\"dataframe\">\n",
       "  <thead>\n",
       "    <tr style=\"text-align: right;\">\n",
       "      <th></th>\n",
       "      <th>0</th>\n",
       "      <th>1</th>\n",
       "      <th>2</th>\n",
       "      <th>3</th>\n",
       "      <th>4</th>\n",
       "    </tr>\n",
       "  </thead>\n",
       "  <tbody>\n",
       "    <tr>\n",
       "      <th>0</th>\n",
       "      <td>0.747628</td>\n",
       "      <td>0.553381</td>\n",
       "      <td>-0.277585</td>\n",
       "      <td>-0.151764</td>\n",
       "      <td>0.149786</td>\n",
       "    </tr>\n",
       "    <tr>\n",
       "      <th>1</th>\n",
       "      <td>0.553381</td>\n",
       "      <td>2.967089</td>\n",
       "      <td>-0.252488</td>\n",
       "      <td>0.500604</td>\n",
       "      <td>0.509471</td>\n",
       "    </tr>\n",
       "    <tr>\n",
       "      <th>2</th>\n",
       "      <td>-0.277585</td>\n",
       "      <td>-0.252488</td>\n",
       "      <td>1.174565</td>\n",
       "      <td>-0.028789</td>\n",
       "      <td>-0.224771</td>\n",
       "    </tr>\n",
       "    <tr>\n",
       "      <th>3</th>\n",
       "      <td>-0.151764</td>\n",
       "      <td>0.500604</td>\n",
       "      <td>-0.028789</td>\n",
       "      <td>0.612265</td>\n",
       "      <td>-0.167952</td>\n",
       "    </tr>\n",
       "    <tr>\n",
       "      <th>4</th>\n",
       "      <td>0.149786</td>\n",
       "      <td>0.509471</td>\n",
       "      <td>-0.224771</td>\n",
       "      <td>-0.167952</td>\n",
       "      <td>0.352811</td>\n",
       "    </tr>\n",
       "  </tbody>\n",
       "</table>\n",
       "</div>"
      ],
      "text/plain": [
       "          0         1         2         3         4\n",
       "0  0.747628  0.553381 -0.277585 -0.151764  0.149786\n",
       "1  0.553381  2.967089 -0.252488  0.500604  0.509471\n",
       "2 -0.277585 -0.252488  1.174565 -0.028789 -0.224771\n",
       "3 -0.151764  0.500604 -0.028789  0.612265 -0.167952\n",
       "4  0.149786  0.509471 -0.224771 -0.167952  0.352811"
      ]
     },
     "execution_count": 6,
     "metadata": {},
     "output_type": "execute_result"
    }
   ],
   "source": [
    "import numpy as np\n",
    "# 产生随机的6*5的矩阵\n",
    "D = pd.DataFrame(np.random.randn(6,5))\n",
    "#j计算协方差矩阵\n",
    "D.cov()"
   ]
  },
  {
   "cell_type": "code",
   "execution_count": 8,
   "metadata": {},
   "outputs": [
    {
     "data": {
      "text/plain": [
       "0.5533810999822402"
      ]
     },
     "execution_count": 8,
     "metadata": {},
     "output_type": "execute_result"
    }
   ],
   "source": [
    "# 计算第一列和第二列的协方差\n",
    "D[0].cov(D[1])"
   ]
  },
  {
   "cell_type": "markdown",
   "metadata": {},
   "source": [
    "### 计算样本的偏度(三阶矩阵)和峰度(四阶矩阵)"
   ]
  },
  {
   "cell_type": "code",
   "execution_count": 9,
   "metadata": {},
   "outputs": [
    {
     "data": {
      "text/plain": [
       "0    0.010959\n",
       "1    0.638009\n",
       "2    0.453595\n",
       "3    0.493652\n",
       "4   -0.392829\n",
       "dtype: float64"
      ]
     },
     "execution_count": 9,
     "metadata": {},
     "output_type": "execute_result"
    }
   ],
   "source": [
    "# 样本值的偏度\n",
    "D.skew()"
   ]
  },
  {
   "cell_type": "code",
   "execution_count": 10,
   "metadata": {},
   "outputs": [
    {
     "data": {
      "text/plain": [
       "0   -0.033771\n",
       "1    1.201339\n",
       "2   -0.890710\n",
       "3    0.492566\n",
       "4    0.697495\n",
       "dtype: float64"
      ]
     },
     "execution_count": 10,
     "metadata": {},
     "output_type": "execute_result"
    }
   ],
   "source": [
    "# 样本值的峰度\n",
    "D.kurt()"
   ]
  },
  {
   "cell_type": "markdown",
   "metadata": {},
   "source": [
    "### 累计统计函数"
   ]
  },
  {
   "cell_type": "code",
   "execution_count": 12,
   "metadata": {},
   "outputs": [
    {
     "data": {
      "text/plain": [
       "0       0\n",
       "1       1\n",
       "2       3\n",
       "3       6\n",
       "4      10\n",
       "5      15\n",
       "6      21\n",
       "7      28\n",
       "8      36\n",
       "9      45\n",
       "10     55\n",
       "11     66\n",
       "12     78\n",
       "13     91\n",
       "14    105\n",
       "15    120\n",
       "16    136\n",
       "17    153\n",
       "18    171\n",
       "19    190\n",
       "dtype: int64"
      ]
     },
     "execution_count": 12,
     "metadata": {},
     "output_type": "execute_result"
    }
   ],
   "source": [
    " data = pd.Series(range(0,20))\n",
    "# 依次给出前1、2、3.....N的和\n",
    "data.cumsum()"
   ]
  },
  {
   "cell_type": "code",
   "execution_count": 18,
   "metadata": {},
   "outputs": [
    {
     "data": {
      "text/plain": [
       "0      NaN\n",
       "1      1.0\n",
       "2      3.0\n",
       "3      5.0\n",
       "4      7.0\n",
       "5      9.0\n",
       "6     11.0\n",
       "7     13.0\n",
       "8     15.0\n",
       "9     17.0\n",
       "10    19.0\n",
       "11    21.0\n",
       "12    23.0\n",
       "13    25.0\n",
       "14    27.0\n",
       "15    29.0\n",
       "16    31.0\n",
       "17    33.0\n",
       "18    35.0\n",
       "19    37.0\n",
       "dtype: float64"
      ]
     },
     "execution_count": 18,
     "metadata": {},
     "output_type": "execute_result"
    }
   ],
   "source": [
    "# 向量两项求和\n",
    "data.rolling(window=2).sum()"
   ]
  },
  {
   "cell_type": "markdown",
   "metadata": {},
   "source": [
    "# Matplotlib"
   ]
  },
  {
   "cell_type": "markdown",
   "metadata": {},
   "source": [
    "## 统计作图"
   ]
  },
  {
   "cell_type": "code",
   "execution_count": 21,
   "metadata": {},
   "outputs": [
    {
     "data": {
      "image/png": "[encoded data removed]",
      "text/plain": [
       "<Figure size 504x360 with 1 Axes>"
      ]
     },
     "metadata": {},
     "output_type": "display_data"
    }
   ],
   "source": [
    "import matplotlib.pyplot as plt\n",
    "plt.rcParams['font.sans-serif'] = ['SimHei'] #用来正常显示中文标签\n",
    "plt.rcParams['axes.unicode_minus'] = False #用来正常显示负号\n",
    "#创建绘图区域，制定比例\n",
    "plt.figure(figsize = (7,5))\n",
    "x = np.linspace(0, 2 * np.pi, 50)\n",
    "y = np.sin(x)\n",
    "plt.plot(x, y, 'bp--')\n",
    "# 显示作图效果\n",
    "plt.show()"
   ]
  },
  {
   "cell_type": "code",
   "execution_count": 29,
   "metadata": {},
   "outputs": [
    {
     "data": {
      "image/png": "[encoded data removed]",
      "text/plain": [
       "<Figure size 432x288 with 1 Axes>"
      ]
     },
     "metadata": {},
     "output_type": "display_data"
    }
   ],
   "source": [
    "# 定义标签\n",
    "labels = \"Frogs\", \"Hogs\", \"Dogs\", \"Logs\";\n",
    "sizes = [15, 30, 45, 10]\n",
    "# 定义颜色\n",
    "colors = [\"yellowgreen\", \"gold\", \"lightskyblue\", \"lightcoral\"]\n",
    "# 突出显示，此处仅突出显示第三块\n",
    "explode = [0, 0, 0.1, 0]\n",
    "plt.pie(sizes, explode = explode, labels = labels, autopct='%1.1f%%', \n",
    "        shadow = True, startangle = 90, colors = colors)\n",
    "# 显示为圆，避免比例压缩为椭圆\n",
    "plt.axis('equal')\n",
    "plt.show()"
   ]
  },
  {
   "cell_type": "markdown",
   "metadata": {},
   "source": [
    "直方图"
   ]
  },
  {
   "cell_type": "code",
   "execution_count": 30,
   "metadata": {},
   "outputs": [
    {
     "data": {
      "image/png": "[encoded data removed]",
      "text/plain": [
       "<Figure size 432x288 with 1 Axes>"
      ]
     },
     "metadata": {},
     "output_type": "display_data"
    }
   ],
   "source": [
    "x = np.random.randn(1000)\n",
    "plt.hist(x, 10)\n",
    "plt.show()"
   ]
  },
  {
   "cell_type": "code",
   "execution_count": 32,
   "metadata": {},
   "outputs": [
    {
     "data": {
      "image/png": "[encoded data removed]",
      "text/plain": [
       "<Figure size 432x288 with 1 Axes>"
      ]
     },
     "metadata": {},
     "output_type": "display_data"
    }
   ],
   "source": [
    "# 构造两列的DataFrame\n",
    "d = pd.DataFrame([x, x+1]).T\n",
    "# 调用Series内置的作图方法，kind指定为箱型图box\n",
    "d.plot(kind = \"box\")\n",
    "plt.show()"
   ]
  },
  {
   "cell_type": "code",
   "execution_count": 35,
   "metadata": {},
   "outputs": [
    {
     "data": {
      "image/png": "[encoded data removed]",
      "text/plain": [
       "<Figure size 432x288 with 1 Axes>"
      ]
     },
     "metadata": {},
     "output_type": "display_data"
    }
   ],
   "source": [
    "x = pd.Series(np.exp(np.arange(20)))\n",
    "x.plot(label = u'原始数据图', legend = True)\n",
    "plt.show()"
   ]
  },
  {
   "cell_type": "markdown",
   "metadata": {},
   "source": [
    "绘制对数图形"
   ]
  },
  {
   "cell_type": "code",
   "execution_count": 36,
   "metadata": {},
   "outputs": [
    {
     "data": {
      "image/png": "[encoded data removed]",
      "text/plain": [
       "<Figure size 432x288 with 1 Axes>"
      ]
     },
     "metadata": {},
     "output_type": "display_data"
    }
   ],
   "source": [
    "x.plot(logy  = True, label = u'对数数据图', legend = True)\n",
    "plt.show()"
   ]
  },
  {
   "cell_type": "markdown",
   "metadata": {},
   "source": [
    "绘制误差条形图"
   ]
  },
  {
   "cell_type": "code",
   "execution_count": 37,
   "metadata": {},
   "outputs": [
    {
     "data": {
      "image/png": "[encoded data removed]",
      "text/plain": [
       "<Figure size 432x288 with 1 Axes>"
      ]
     },
     "metadata": {},
     "output_type": "display_data"
    }
   ],
   "source": [
    "# 定义误差\n",
    "error = np.random.randn(10)\n",
    "y = pd.Series(np.sin(np.arange(10)))\n",
    "y.plot(yerr = error)\n",
    "plt.show()"
   ]
  },
  {
   "cell_type": "code",
   "execution_count": null,
   "metadata": {},
   "outputs": [],
   "source": []
  }
 ],
 "metadata": {
  "kernelspec": {
   "display_name": "Python 3",
   "language": "python",
   "name": "python3"
  },
  "language_info": {
   "codemirror_mode": {
    "name": "ipython",
    "version": 3
   },
   "file_extension": ".py",
   "mimetype": "text/x-python",
   "name": "python",
   "nbconvert_exporter": "python",
   "pygments_lexer": "ipython3",
   "version": "3.6.5"
  }
 },
 "nbformat": 4,
 "nbformat_minor": 2
}
